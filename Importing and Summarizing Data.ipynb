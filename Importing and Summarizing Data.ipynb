{
 "cells": [
  {
   "cell_type": "markdown",
   "metadata": {},
   "source": [
    "# Read and explore your data"
   ]
  },
  {
   "cell_type": "code",
   "execution_count": 1,
   "metadata": {},
   "outputs": [
    {
     "name": "stdout",
     "output_type": "stream",
     "text": [
      "(173, 21)\n"
     ]
    }
   ],
   "source": [
    "# Import pandas \n",
    "import pandas as pd\n",
    "import numpy as np\n",
    "\n",
    "# Use pandas to read in recent_grads_url\n",
    "recent_grads = pd.read_csv('recent_grads.csv')\n",
    "\n",
    "# Print the shape\n",
    "print(recent_grads.shape)"
   ]
  },
  {
   "cell_type": "markdown",
   "metadata": {},
   "source": [
    "# Exploring Your Data"
   ]
  },
  {
   "cell_type": "code",
   "execution_count": 9,
   "metadata": {},
   "outputs": [
    {
     "name": "stdout",
     "output_type": "stream",
     "text": [
      "rank                      int64\n",
      "major_code                int64\n",
      "major                    object\n",
      "major_category           object\n",
      "total                     int64\n",
      "sample_size               int64\n",
      "men                       int64\n",
      "women                     int64\n",
      "sharewomen              float64\n",
      "employed                  int64\n",
      "full_time                 int64\n",
      "part_time                 int64\n",
      "full_time_year_round      int64\n",
      "unemployed                int64\n",
      "unemployment_rate       float64\n",
      "median                   object\n",
      "p25th                    object\n",
      "p75th                    object\n",
      "college_jobs              int64\n",
      "non_college_jobs          int64\n",
      "low_wage_jobs             int64\n",
      "dtype: object\n",
      "             rank   major_code          total  sample_size            men  \\\n",
      "count  173.000000   173.000000     173.000000   173.000000     173.000000   \n",
      "mean    87.000000  3879.815029   39167.716763   356.080925   16637.358382   \n",
      "std     50.084928  1687.753140   63354.613919   618.361022   28063.394844   \n",
      "min      1.000000  1100.000000     124.000000     2.000000     119.000000   \n",
      "25%     44.000000  2403.000000    4361.000000    39.000000    2110.000000   \n",
      "50%     87.000000  3608.000000   15058.000000   130.000000    5347.000000   \n",
      "75%    130.000000  5503.000000   38844.000000   338.000000   14440.000000   \n",
      "max    173.000000  6403.000000  393735.000000  4212.000000  173809.000000   \n",
      "\n",
      "               women  sharewomen       employed      full_time      part_time  \\\n",
      "count     173.000000  173.000000     173.000000     173.000000     173.000000   \n",
      "mean    22530.358382    0.522550   31192.763006   26029.306358    8832.398844   \n",
      "std     40966.381219    0.230572   50675.002241   42869.655092   14648.179473   \n",
      "min         0.000000    0.000000       0.000000     111.000000       0.000000   \n",
      "25%      1784.000000    0.339671    3608.000000    3154.000000    1030.000000   \n",
      "50%      8284.000000    0.535714   11797.000000   10048.000000    3299.000000   \n",
      "75%     22456.000000    0.702020   31433.000000   25147.000000    9948.000000   \n",
      "max    307087.000000    0.968954  307933.000000  251540.000000  115172.000000   \n",
      "\n",
      "       full_time_year_round    unemployed  unemployment_rate   college_jobs  \\\n",
      "count            173.000000    173.000000         172.000000     173.000000   \n",
      "mean           19694.427746   2416.329480           0.068587   12322.635838   \n",
      "std            33160.941514   4112.803148           0.029967   21299.868863   \n",
      "min              111.000000      0.000000           0.000000       0.000000   \n",
      "25%             2453.000000    304.000000           0.050723    1675.000000   \n",
      "50%             7413.000000    893.000000           0.068272    4390.000000   \n",
      "75%            16891.000000   2393.000000           0.087599   14444.000000   \n",
      "max           199897.000000  28169.000000           0.177226  151643.000000   \n",
      "\n",
      "       non_college_jobs  low_wage_jobs  \n",
      "count        173.000000     173.000000  \n",
      "mean       13284.497110    3859.017341  \n",
      "std        23789.655363    6944.998579  \n",
      "min            0.000000       0.000000  \n",
      "25%         1591.000000     340.000000  \n",
      "50%         4595.000000    1231.000000  \n",
      "75%        11783.000000    3466.000000  \n",
      "max       148395.000000   48207.000000  \n",
      "             rank   major_code          total  sample_size            men  \\\n",
      "count  173.000000   173.000000     173.000000   173.000000     173.000000   \n",
      "mean    87.000000  3879.815029   39167.716763   356.080925   16637.358382   \n",
      "std     50.084928  1687.753140   63354.613919   618.361022   28063.394844   \n",
      "min      1.000000  1100.000000     124.000000     2.000000     119.000000   \n",
      "25%     44.000000  2403.000000    4361.000000    39.000000    2110.000000   \n",
      "50%     87.000000  3608.000000   15058.000000   130.000000    5347.000000   \n",
      "75%    130.000000  5503.000000   38844.000000   338.000000   14440.000000   \n",
      "max    173.000000  6403.000000  393735.000000  4212.000000  173809.000000   \n",
      "\n",
      "               women  sharewomen       employed      full_time      part_time  \\\n",
      "count     173.000000  173.000000     173.000000     173.000000     173.000000   \n",
      "mean    22530.358382    0.522550   31192.763006   26029.306358    8832.398844   \n",
      "std     40966.381219    0.230572   50675.002241   42869.655092   14648.179473   \n",
      "min         0.000000    0.000000       0.000000     111.000000       0.000000   \n",
      "25%      1784.000000    0.339671    3608.000000    3154.000000    1030.000000   \n",
      "50%      8284.000000    0.535714   11797.000000   10048.000000    3299.000000   \n",
      "75%     22456.000000    0.702020   31433.000000   25147.000000    9948.000000   \n",
      "max    307087.000000    0.968954  307933.000000  251540.000000  115172.000000   \n",
      "\n",
      "       full_time_year_round    unemployed  unemployment_rate   college_jobs  \\\n",
      "count            173.000000    173.000000         172.000000     173.000000   \n",
      "mean           19694.427746   2416.329480           0.068587   12322.635838   \n",
      "std            33160.941514   4112.803148           0.029967   21299.868863   \n",
      "min              111.000000      0.000000           0.000000       0.000000   \n",
      "25%             2453.000000    304.000000           0.050723    1675.000000   \n",
      "50%             7413.000000    893.000000           0.068272    4390.000000   \n",
      "75%            16891.000000   2393.000000           0.087599   14444.000000   \n",
      "max           199897.000000  28169.000000           0.177226  151643.000000   \n",
      "\n",
      "       non_college_jobs  low_wage_jobs  \n",
      "count        173.000000     173.000000  \n",
      "mean       13284.497110    3859.017341  \n",
      "std        23789.655363    6944.998579  \n",
      "min            0.000000       0.000000  \n",
      "25%         1591.000000     340.000000  \n",
      "50%         4595.000000    1231.000000  \n",
      "75%        11783.000000    3466.000000  \n",
      "max       148395.000000   48207.000000  \n"
     ]
    }
   ],
   "source": [
    "# Print .dtypes\n",
    "print(recent_grads.dtypes)\n",
    "\n",
    "# Output summary statistics\n",
    "print(recent_grads.describe())\n",
    "\n",
    "# Exclude data of type object\n",
    "print(recent_grads.describe(exclude=['object']))"
   ]
  },
  {
   "cell_type": "markdown",
   "metadata": {},
   "source": [
    "# Replacing Missing Values"
   ]
  },
  {
   "cell_type": "code",
   "execution_count": 2,
   "metadata": {},
   "outputs": [
    {
     "name": "stdout",
     "output_type": "stream",
     "text": [
      "median    object\n",
      "p25th     object\n",
      "p75th     object\n",
      "dtype: object\n",
      "['110000' '75000' '73000' '70000' '65000' 'UN' '62000' '60000' '58000'\n",
      " '57100' '57000' '56000' '54000' '53000' '52000' '51000' '50000' '48000'\n",
      " '47000' '46000' '45000' '44700' '44000' '42000' '41300' '41000' '40100'\n",
      " '40000' '39000' '38400' '38000' '37500' '37400' '37000' '36400' '36200'\n",
      " '36000' '35600' '35000' '34000' '33500' '33400' '33000' '32500' '32400'\n",
      " '32200' '32100' '32000' '31500' '31000' '30500' '30000' '29000' '28000'\n",
      " '27500' '27000' '26000' '25000' '23400' '22000']\n"
     ]
    }
   ],
   "source": [
    "# Names of the columns we're searching for missing values \n",
    "columns = ['median', 'p25th', 'p75th']\n",
    "\n",
    "# Take a look at the dtypes\n",
    "print(recent_grads[columns].dtypes)\n",
    "\n",
    "# Find how missing values are represented\n",
    "print(recent_grads[\"median\"].unique())\n",
    "\n",
    "# Replace missing values with NaN\n",
    "for column in columns:\n",
    "    recent_grads.loc[recent_grads[column] == 'UN', column] = np.nan"
   ]
  },
  {
   "cell_type": "markdown",
   "metadata": {},
   "source": [
    "# Select a Column"
   ]
  },
  {
   "cell_type": "code",
   "execution_count": 11,
   "metadata": {},
   "outputs": [
    {
     "name": "stdout",
     "output_type": "stream",
     "text": [
      "0    0.120564\n",
      "1    0.101852\n",
      "2    0.153037\n",
      "3    0.107313\n",
      "4    0.341631\n",
      "Name: sharewomen, dtype: float64\n"
     ]
    }
   ],
   "source": [
    "# Select sharewomen column\n",
    "sw_col = recent_grads[\"sharewomen\"]\n",
    "\n",
    "# Output first five rows\n",
    "print(sw_col[0:5])"
   ]
  },
  {
   "cell_type": "markdown",
   "metadata": {},
   "source": [
    "# Column Maximum Value"
   ]
  },
  {
   "cell_type": "code",
   "execution_count": 12,
   "metadata": {},
   "outputs": [
    {
     "name": "stdout",
     "output_type": "stream",
     "text": [
      "0.968953683\n"
     ]
    }
   ],
   "source": [
    "# Import numpy\n",
    "import numpy as np\n",
    "\n",
    "# Use max to output maximum values\n",
    "max_sw = np.max(sw_col)\n",
    "\n",
    "# Print column max\n",
    "print(max_sw)"
   ]
  },
  {
   "cell_type": "markdown",
   "metadata": {},
   "source": [
    "# Selecting a Row"
   ]
  },
  {
   "cell_type": "code",
   "execution_count": 13,
   "metadata": {},
   "outputs": [
    {
     "name": "stdout",
     "output_type": "stream",
     "text": [
      "     rank  major_code                        major             major_category  \\\n",
      "162   163        5502  ANTHROPOLOGY AND ARCHEOLOGY  Humanities & Liberal Arts   \n",
      "\n",
      "     total  sample_size   men  women  sharewomen  employed      ...        \\\n",
      "162  38844          247  1167  36422    0.968954     29633      ...         \n",
      "\n",
      "     part_time  full_time_year_round  unemployed  unemployment_rate  median  \\\n",
      "162      14515                 13232        3395           0.102792   28000   \n",
      "\n",
      "     p25th  p75th college_jobs  non_college_jobs  low_wage_jobs  \n",
      "162  20000  38000         9805             16693           6866  \n",
      "\n",
      "[1 rows x 21 columns]\n"
     ]
    }
   ],
   "source": [
    "# Output the row containing the maximum percentage of women\n",
    "print(recent_grads[sw_col == max_sw])"
   ]
  },
  {
   "cell_type": "markdown",
   "metadata": {},
   "source": [
    "# Converting a DataFrame to Numpy Array"
   ]
  },
  {
   "cell_type": "code",
   "execution_count": 14,
   "metadata": {},
   "outputs": [
    {
     "name": "stdout",
     "output_type": "stream",
     "text": [
      "<class 'numpy.ndarray'>\n"
     ]
    }
   ],
   "source": [
    "# Convert to numpy array\n",
    "recent_grads_np = np.array(recent_grads[[\"unemployed\", \"low_wage_jobs\"]])\n",
    "\n",
    "\n",
    "# Print the type of recent_grads_np\n",
    "print(type(recent_grads_np))"
   ]
  },
  {
   "cell_type": "markdown",
   "metadata": {},
   "source": [
    "# Correlation Coefficient"
   ]
  },
  {
   "cell_type": "code",
   "execution_count": 15,
   "metadata": {},
   "outputs": [
    {
     "name": "stdout",
     "output_type": "stream",
     "text": [
      "[[1.         0.95538815]\n",
      " [0.95538815 1.        ]]\n"
     ]
    }
   ],
   "source": [
    "# Calculate correlation matrix\n",
    "print(np.corrcoef(recent_grads_np[:,0], recent_grads_np[:,1]))"
   ]
  },
  {
   "cell_type": "markdown",
   "metadata": {},
   "source": [
    "# Creating Columns"
   ]
  },
  {
   "cell_type": "code",
   "execution_count": 16,
   "metadata": {},
   "outputs": [],
   "source": [
    "# Add sharemen column\n",
    "recent_grads['sharemen'] = recent_grads[\"men\"] / recent_grads[\"total\"]"
   ]
  },
  {
   "cell_type": "code",
   "execution_count": 17,
   "metadata": {},
   "outputs": [],
   "source": [
    "# Add gender_diff column\n",
    "# Add a column named gender_diff that reports how much higher the rate of women is than the rate of men\n",
    "recent_grads['gender_diff'] = recent_grads[\"sharewomen\"] - recent_grads['sharemen']"
   ]
  },
  {
   "cell_type": "markdown",
   "metadata": {},
   "source": [
    "# Select Row with Highest Value"
   ]
  },
  {
   "cell_type": "code",
   "execution_count": 18,
   "metadata": {},
   "outputs": [
    {
     "name": "stdout",
     "output_type": "stream",
     "text": [
      "     rank  major_code                                       major  \\\n",
      "120   121        2301  EDUCATIONAL ADMINISTRATION AND SUPERVISION   \n",
      "\n",
      "    major_category  total  sample_size    men  women  sharewomen  employed  \\\n",
      "120      Education    804            5  78253  63698    0.448732       703   \n",
      "\n",
      "        ...       unemployed  unemployment_rate  median  p25th  p75th  \\\n",
      "120     ...                0                0.0   34000  29000  35000   \n",
      "\n",
      "    college_jobs non_college_jobs low_wage_jobs   sharemen  gender_diff  \n",
      "120          346              206           111  97.329602    -96.88087  \n",
      "\n",
      "[1 rows x 23 columns]\n"
     ]
    }
   ],
   "source": [
    "# Find the maximum percentage value of men\n",
    "max_men = np.max(recent_grads[\"sharemen\"])\n",
    " \n",
    "# Output the row with the highest percentage of men\n",
    "print(recent_grads[recent_grads[\"sharemen\"] == max_men])"
   ]
  },
  {
   "cell_type": "markdown",
   "metadata": {},
   "source": [
    "# Updating columns"
   ]
  },
  {
   "cell_type": "code",
   "execution_count": 19,
   "metadata": {},
   "outputs": [
    {
     "name": "stdout",
     "output_type": "stream",
     "text": [
      "    rank  major_code                                   major  \\\n",
      "8      9        2414                  MECHANICAL ENGINEERING   \n",
      "74    75        5003                               CHEMISTRY   \n",
      "37    38        6205                      BUSINESS ECONOMICS   \n",
      "65    66        2599  MISCELLANEOUS ENGINEERING TECHNOLOGIES   \n",
      "78    79        5506        POLITICAL SCIENCE AND GOVERNMENT   \n",
      "\n",
      "       major_category   total  sample_size    men  women  sharewomen  \\\n",
      "8         Engineering   91227         1029  12953   2105    0.139793   \n",
      "74  Physical Sciences   66530          353  32923  33607    0.505141   \n",
      "37           Business   13302          199   3477   1154    0.249190   \n",
      "65        Engineering    8804          125    124      0    0.000000   \n",
      "78     Social Science  182621         1387  93880  88741    0.485930   \n",
      "\n",
      "    employed     ...       unemployed  unemployment_rate  median  p25th  \\\n",
      "8      76442     ...             4650           0.057342   60000  48000   \n",
      "74     48535     ...             2769           0.053972   39000  30000   \n",
      "37     10914     ...             1165           0.096448   46000  33000   \n",
      "65      7502     ...              416           0.052539   40000  30400   \n",
      "78    133454     ...            15022           0.101175   38000  28000   \n",
      "\n",
      "    p75th college_jobs non_college_jobs low_wage_jobs  sharemen  gender_diff  \n",
      "8   70000        52844            16384          3253  0.141986     0.002194  \n",
      "74  49900        30382            14718          4288  0.494859     0.010281  \n",
      "37  58000         1578             4612          1284  0.261389     0.012199  \n",
      "65  56000         2446             3896           386  0.014085     0.014085  \n",
      "78  50000        36854            66947         19803  0.514070     0.028140  \n",
      "\n",
      "[5 rows x 23 columns]\n"
     ]
    }
   ],
   "source": [
    "# Make all gender difference values positive\n",
    "recent_grads['gender_diff'] = np.abs(recent_grads['gender_diff'])\n",
    "\n",
    "# Find the 5 rows with lowest gender rate difference\n",
    "print(recent_grads.nsmallest(5, 'gender_diff'))"
   ]
  },
  {
   "cell_type": "markdown",
   "metadata": {},
   "source": [
    "# Filtering rows"
   ]
  },
  {
   "cell_type": "code",
   "execution_count": 20,
   "metadata": {},
   "outputs": [],
   "source": [
    "# Rows where gender rate difference is greater than .30 \n",
    "diff_30 = recent_grads['gender_diff'] > .30\n",
    "\n",
    "# Rows with more men\n",
    "more_men = recent_grads['sharemen'] > recent_grads['sharewomen']\n",
    "\n",
    "# Combine more_men and diff_30\n",
    "more_men_and_diff_30 = np.logical_and(more_men, diff_30)\n",
    "\n",
    "# Find rows with more men and and gender rate difference greater than .30\n",
    "fewer_women = recent_grads[more_men_and_diff_30]"
   ]
  },
  {
   "cell_type": "markdown",
   "metadata": {},
   "source": [
    "# Grouping with Counts"
   ]
  },
  {
   "cell_type": "code",
   "execution_count": 21,
   "metadata": {},
   "outputs": [
    {
     "name": "stdout",
     "output_type": "stream",
     "text": [
      "major_category\n",
      "Agriculture & Natural Resources        10\n",
      "Arts                                    8\n",
      "Biology & Life Science                 14\n",
      "Business                               13\n",
      "Communications & Journalism             4\n",
      "Computers & Mathematics                11\n",
      "Education                              16\n",
      "Engineering                            29\n",
      "Health                                 12\n",
      "Humanities & Liberal Arts              15\n",
      "Industrial Arts & Consumer Services     7\n",
      "Interdisciplinary                       1\n",
      "Law & Public Policy                     5\n",
      "Physical Sciences                      10\n",
      "Psychology & Social Work                9\n",
      "Social Science                          9\n",
      "Name: major_category, dtype: int64\n"
     ]
    }
   ],
   "source": [
    "# Group by major category and count\n",
    "print(recent_grads.groupby(['major_category']).major_category.count())\n",
    "#print(recent_grads.groupby(['major_category']).count())\n"
   ]
  },
  {
   "cell_type": "code",
   "execution_count": 22,
   "metadata": {},
   "outputs": [
    {
     "name": "stdout",
     "output_type": "stream",
     "text": [
      "major_category\n",
      "Agriculture & Natural Resources         6\n",
      "Biology & Life Science                  4\n",
      "Business                                1\n",
      "Computers & Mathematics                 5\n",
      "Education                               5\n",
      "Engineering                            20\n",
      "Health                                  1\n",
      "Humanities & Liberal Arts               1\n",
      "Industrial Arts & Consumer Services     3\n",
      "Interdisciplinary                       1\n",
      "Law & Public Policy                     1\n",
      "Physical Sciences                       6\n",
      "Psychology & Social Work                2\n",
      "Social Science                          4\n",
      "Name: major_category, dtype: int64\n"
     ]
    }
   ],
   "source": [
    "# Group departments that have less women by category and count\n",
    "print(fewer_women.groupby(['major_category']).major_category.count())"
   ]
  },
  {
   "cell_type": "markdown",
   "metadata": {},
   "source": [
    "# Grouping One Column with Means"
   ]
  },
  {
   "cell_type": "code",
   "execution_count": 23,
   "metadata": {},
   "outputs": [
    {
     "name": "stdout",
     "output_type": "stream",
     "text": [
      "major_category\n",
      "Agriculture & Natural Resources        4.511111\n",
      "Arts                                   0.308747\n",
      "Biology & Life Science                 4.785277\n",
      "Business                               0.318304\n",
      "Communications & Journalism            0.483868\n",
      "Computers & Mathematics                0.700728\n",
      "Education                              6.869082\n",
      "Engineering                            1.296387\n",
      "Health                                 0.450257\n",
      "Humanities & Liberal Arts              0.540437\n",
      "Industrial Arts & Consumer Services    2.474325\n",
      "Interdisciplinary                      0.320397\n",
      "Law & Public Policy                    0.281993\n",
      "Physical Sciences                      1.556373\n",
      "Psychology & Social Work               5.719239\n",
      "Social Science                         1.695479\n",
      "Name: gender_diff, dtype: float64\n"
     ]
    }
   ],
   "source": [
    "# Report average gender difference by major category\n",
    "print(recent_grads.groupby(['major_category']).gender_diff.mean())"
   ]
  },
  {
   "cell_type": "code",
   "execution_count": 24,
   "metadata": {},
   "outputs": [
    {
     "name": "stdout",
     "output_type": "stream",
     "text": [
      "                                     low_wage_jobs  unemployment_rate\n",
      "major_category                                                       \n",
      "Agriculture & Natural Resources         789.900000           0.056328\n",
      "Arts                                   7514.500000           0.090173\n",
      "Biology & Life Science                 3053.000000           0.060918\n",
      "Business                               9752.923077           0.071064\n",
      "Communications & Journalism           12398.750000           0.075538\n",
      "Computers & Mathematics                1466.909091           0.084256\n",
      "Education                              2554.375000           0.051702\n",
      "Engineering                             864.793103           0.063334\n",
      "Health                                 2605.833333           0.065920\n",
      "Humanities & Liberal Arts              6282.666667           0.081008\n",
      "Industrial Arts & Consumer Services    3798.571429           0.056083\n",
      "Interdisciplinary                      1061.000000           0.070861\n",
      "Law & Public Policy                    4144.000000           0.090805\n",
      "Physical Sciences                      1407.800000           0.046511\n",
      "Psychology & Social Work               6249.555556           0.072065\n",
      "Social Science                         6020.000000           0.095729\n"
     ]
    }
   ],
   "source": [
    "# Find average number of low wage jobs and unemployment rate of each major category\n",
    "dept_stats = recent_grads.groupby(['major_category'])['low_wage_jobs', 'unemployment_rate'].mean()\n",
    "print(dept_stats)"
   ]
  },
  {
   "cell_type": "markdown",
   "metadata": {},
   "source": [
    "# Plotting Scatterplots"
   ]
  },
  {
   "cell_type": "code",
   "execution_count": 25,
   "metadata": {},
   "outputs": [
    {
     "data": {
      "image/png": "[encoded data removed]",
      "text/plain": [
       "<matplotlib.figure.Figure at 0x2248f705b70>"
      ]
     },
     "metadata": {},
     "output_type": "display_data"
    }
   ],
   "source": [
    "# Import matplotlib\n",
    "import matplotlib.pyplot as plt\n",
    "\n",
    "# Create scatter plot\n",
    "unemployment_rate = recent_grads[\"unemployment_rate\"]\n",
    "low_wage_jobs = recent_grads[\"low_wage_jobs\"]\n",
    "plt.scatter(unemployment_rate, low_wage_jobs)\n",
    "\n",
    "# Label x axis\n",
    "plt.xlabel('Unemployment rate')\n",
    "\n",
    "# Label y axis\n",
    "plt.ylabel('Low pay jobs')\n",
    "\n",
    "# Display the graph \n",
    "plt.show()"
   ]
  },
  {
   "cell_type": "code",
   "execution_count": 26,
   "metadata": {},
   "outputs": [
    {
     "data": {
      "image/png": "[encoded data removed]",
      "text/plain": [
       "<matplotlib.figure.Figure at 0x2248f879588>"
      ]
     },
     "metadata": {},
     "output_type": "display_data"
    }
   ],
   "source": [
    "# Plot the red and triangle shaped scatter plot  \n",
    "plt.scatter(unemployment_rate, low_wage_jobs, color = 'r', marker = '^')\n",
    "\n",
    "# Display the visualization\n",
    "plt.show()\n"
   ]
  },
  {
   "cell_type": "markdown",
   "metadata": {},
   "source": [
    "# Plotting Histograms"
   ]
  },
  {
   "cell_type": "code",
   "execution_count": 27,
   "metadata": {},
   "outputs": [
    {
     "data": {
      "image/png": "[encoded data removed]",
      "text/plain": [
       "<matplotlib.figure.Figure at 0x22490d559b0>"
      ]
     },
     "metadata": {},
     "output_type": "display_data"
    }
   ],
   "source": [
    "# Plot a histogram of sharewomen\n",
    "plt.hist(recent_grads[\"sharewomen\"])\n",
    "\n",
    "# Show the plot\n",
    "plt.show()"
   ]
  },
  {
   "cell_type": "code",
   "execution_count": 28,
   "metadata": {},
   "outputs": [
    {
     "data": {
      "image/png": "[encoded data removed]",
      "text/plain": [
       "<matplotlib.figure.Figure at 0x2248f84a438>"
      ]
     },
     "metadata": {},
     "output_type": "display_data"
    }
   ],
   "source": [
    "# Import matplotlib and pandas\n",
    "import matplotlib.pyplot as plt\n",
    "import pandas as pd\n",
    "\n",
    "# Create histogram\n",
    "recent_grads.sharewomen.plot(kind='hist')\n",
    "plt.show()"
   ]
  },
  {
   "cell_type": "markdown",
   "metadata": {},
   "source": [
    "# Plotting One Bar Graphs"
   ]
  },
  {
   "cell_type": "code",
   "execution_count": 29,
   "metadata": {},
   "outputs": [
    {
     "data": {
      "image/png": "[encoded data removed]",
      "text/plain": [
       "<matplotlib.figure.Figure at 0x22490d82320>"
      ]
     },
     "metadata": {},
     "output_type": "display_data"
    }
   ],
   "source": [
    "# DataFrame of non-college job sums\n",
    "df = recent_grads.groupby(['major_category']).non_college_jobs.sum()\n",
    "\n",
    "# Plot bar chart\n",
    "df.plot(kind = 'bar')\n",
    "\n",
    "# Show graph\n",
    "plt.show()"
   ]
  },
  {
   "cell_type": "markdown",
   "metadata": {},
   "source": [
    "# Dropping Missing Values"
   ]
  },
  {
   "cell_type": "code",
   "execution_count": 30,
   "metadata": {},
   "outputs": [
    {
     "name": "stdout",
     "output_type": "stream",
     "text": [
      "3979\n",
      "3887\n"
     ]
    }
   ],
   "source": [
    "# Print the size of the DataFrame\n",
    "print(recent_grads.size)\n",
    "\n",
    "# Drop all rows with a missing value\n",
    "recent_grads = recent_grads.dropna()\n",
    "\n",
    "# Print the size of the DataFrame\n",
    "print(recent_grads.size)"
   ]
  },
  {
   "cell_type": "markdown",
   "metadata": {},
   "source": [
    "# Plotting Quantiles of Salary"
   ]
  },
  {
   "cell_type": "code",
   "execution_count": 31,
   "metadata": {},
   "outputs": [],
   "source": [
    "# Convert to numeric and divide by 1000\n",
    "recent_grads['median'] = (pd.to_numeric(recent_grads['median']))/1000\n",
    "recent_grads['p25th'] = (pd.to_numeric(recent_grads['p25th']))/1000\n",
    "recent_grads['p75th'] = (pd.to_numeric(recent_grads['p75th']))/1000\n",
    "\n",
    "# Select averages by major category\n",
    "columns = ['median', 'p25th', 'p75th']\n",
    "sal_quantiles = recent_grads.groupby('major_category')['median', 'p25th', 'p75th'].mean()\n",
    "#print(sal_quantiles)"
   ]
  },
  {
   "cell_type": "code",
   "execution_count": null,
   "metadata": {},
   "outputs": [],
   "source": []
  },
  {
   "cell_type": "code",
   "execution_count": null,
   "metadata": {},
   "outputs": [],
   "source": []
  },
  {
   "cell_type": "code",
   "execution_count": null,
   "metadata": {},
   "outputs": [],
   "source": []
  }
 ],
 "metadata": {
  "kernelspec": {
   "display_name": "Python 3",
   "language": "python",
   "name": "python3"
  },
  "language_info": {
   "codemirror_mode": {
    "name": "ipython",
    "version": 3
   },
   "file_extension": ".py",
   "mimetype": "text/x-python",
   "name": "python",
   "nbconvert_exporter": "python",
   "pygments_lexer": "ipython3",
   "version": "3.7.4"
  }
 },
 "nbformat": 4,
 "nbformat_minor": 2
}
