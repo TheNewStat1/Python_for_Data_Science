{
 "cells": [
  {
   "cell_type": "markdown",
   "metadata": {},
   "source": [
    "# Creating Columns"
   ]
  },
  {
   "cell_type": "code",
   "execution_count": 7,
   "metadata": {},
   "outputs": [],
   "source": [
    "import numpy as np\n",
    "import pandas as pd\n",
    "\n",
    "recent_grads = pd.read_csv(\"recent_grads.csv\")"
   ]
  },
  {
   "cell_type": "code",
   "execution_count": 10,
   "metadata": {},
   "outputs": [],
   "source": [
    "# Add sharemen column\n",
    "recent_grads['sharemen'] = recent_grads[\"men\"] / recent_grads[\"total\"]"
   ]
  },
  {
   "cell_type": "code",
   "execution_count": 12,
   "metadata": {},
   "outputs": [],
   "source": [
    "# Add gender_diff column\n",
    "# Add a column named gender_diff that reports how much higher the rate of women is than the rate of men\n",
    "recent_grads['gender_diff'] = recent_grads[\"sharewomen\"] - recent_grads['sharemen']"
   ]
  },
  {
   "cell_type": "markdown",
   "metadata": {},
   "source": [
    "# Select Row with Highest Value"
   ]
  },
  {
   "cell_type": "code",
   "execution_count": 11,
   "metadata": {},
   "outputs": [
    {
     "name": "stdout",
     "output_type": "stream",
     "text": [
      "     rank  major_code                                       major  \\\n",
      "120   121        2301  EDUCATIONAL ADMINISTRATION AND SUPERVISION   \n",
      "\n",
      "    major_category  total  sample_size    men  women  sharewomen  employed  \\\n",
      "120      Education    804            5  78253  63698    0.448732       703   \n",
      "\n",
      "       ...      full_time_year_round  unemployed  unemployment_rate  median  \\\n",
      "120    ...                       504           0                0.0   34000   \n",
      "\n",
      "     p25th  p75th college_jobs non_college_jobs  low_wage_jobs   sharemen  \n",
      "120  29000  35000          346              206            111  97.329602  \n",
      "\n",
      "[1 rows x 22 columns]\n"
     ]
    }
   ],
   "source": [
    "# Find the maximum percentage value of men\n",
    "max_men = np.max(recent_grads[\"sharemen\"])\n",
    " \n",
    "# Output the row with the highest percentage of men\n",
    "print(recent_grads[recent_grads[\"sharemen\"] == max_men])"
   ]
  },
  {
   "cell_type": "markdown",
   "metadata": {},
   "source": [
    "# Updating columns"
   ]
  },
  {
   "cell_type": "code",
   "execution_count": 13,
   "metadata": {},
   "outputs": [
    {
     "name": "stdout",
     "output_type": "stream",
     "text": [
      "    rank  major_code                                   major  \\\n",
      "8      9        2414                  MECHANICAL ENGINEERING   \n",
      "74    75        5003                               CHEMISTRY   \n",
      "37    38        6205                      BUSINESS ECONOMICS   \n",
      "65    66        2599  MISCELLANEOUS ENGINEERING TECHNOLOGIES   \n",
      "78    79        5506        POLITICAL SCIENCE AND GOVERNMENT   \n",
      "\n",
      "       major_category   total  sample_size    men  women  sharewomen  \\\n",
      "8         Engineering   91227         1029  12953   2105    0.139793   \n",
      "74  Physical Sciences   66530          353  32923  33607    0.505141   \n",
      "37           Business   13302          199   3477   1154    0.249190   \n",
      "65        Engineering    8804          125    124      0    0.000000   \n",
      "78     Social Science  182621         1387  93880  88741    0.485930   \n",
      "\n",
      "    employed     ...       unemployed  unemployment_rate  median  p25th  \\\n",
      "8      76442     ...             4650           0.057342   60000  48000   \n",
      "74     48535     ...             2769           0.053972   39000  30000   \n",
      "37     10914     ...             1165           0.096448   46000  33000   \n",
      "65      7502     ...              416           0.052539   40000  30400   \n",
      "78    133454     ...            15022           0.101175   38000  28000   \n",
      "\n",
      "    p75th college_jobs non_college_jobs low_wage_jobs  sharemen  gender_diff  \n",
      "8   70000        52844            16384          3253  0.141986     0.002194  \n",
      "74  49900        30382            14718          4288  0.494859     0.010281  \n",
      "37  58000         1578             4612          1284  0.261389     0.012199  \n",
      "65  56000         2446             3896           386  0.014085     0.014085  \n",
      "78  50000        36854            66947         19803  0.514070     0.028140  \n",
      "\n",
      "[5 rows x 23 columns]\n"
     ]
    }
   ],
   "source": [
    "# Make all gender difference values positive\n",
    "recent_grads['gender_diff'] = np.abs(recent_grads['gender_diff'])\n",
    "\n",
    "# Find the 5 rows with lowest gender rate difference\n",
    "print(recent_grads.nsmallest(5, 'gender_diff'))"
   ]
  },
  {
   "cell_type": "markdown",
   "metadata": {},
   "source": [
    "# Filtering rows"
   ]
  },
  {
   "cell_type": "code",
   "execution_count": 16,
   "metadata": {},
   "outputs": [],
   "source": [
    "# Rows where gender rate difference is greater than .30 \n",
    "diff_30 = recent_grads['gender_diff'] > .30\n",
    "\n",
    "# Rows with more men\n",
    "more_men = recent_grads['sharemen'] > recent_grads['sharewomen']\n",
    "\n",
    "# Combine more_men and diff_30\n",
    "more_men_and_diff_30 = np.logical_and(more_men, diff_30)\n",
    "\n",
    "# Find rows with more men and and gender rate difference greater than .30\n",
    "fewer_women = recent_grads[more_men_and_diff_30]"
   ]
  },
  {
   "cell_type": "markdown",
   "metadata": {},
   "source": [
    "# Grouping with Counts"
   ]
  },
  {
   "cell_type": "code",
   "execution_count": 19,
   "metadata": {},
   "outputs": [
    {
     "name": "stdout",
     "output_type": "stream",
     "text": [
      "major_category\n",
      "Agriculture & Natural Resources        10\n",
      "Arts                                    8\n",
      "Biology & Life Science                 14\n",
      "Business                               13\n",
      "Communications & Journalism             4\n",
      "Computers & Mathematics                11\n",
      "Education                              16\n",
      "Engineering                            29\n",
      "Health                                 12\n",
      "Humanities & Liberal Arts              15\n",
      "Industrial Arts & Consumer Services     7\n",
      "Interdisciplinary                       1\n",
      "Law & Public Policy                     5\n",
      "Physical Sciences                      10\n",
      "Psychology & Social Work                9\n",
      "Social Science                          9\n",
      "Name: major_category, dtype: int64\n"
     ]
    }
   ],
   "source": [
    "# Group by major category and count\n",
    "print(recent_grads.groupby(['major_category']).major_category.count())\n",
    "#print(recent_grads.groupby(['major_category']).count())\n"
   ]
  },
  {
   "cell_type": "code",
   "execution_count": 20,
   "metadata": {},
   "outputs": [
    {
     "name": "stdout",
     "output_type": "stream",
     "text": [
      "major_category\n",
      "Agriculture & Natural Resources         6\n",
      "Biology & Life Science                  4\n",
      "Business                                1\n",
      "Computers & Mathematics                 5\n",
      "Education                               5\n",
      "Engineering                            20\n",
      "Health                                  1\n",
      "Humanities & Liberal Arts               1\n",
      "Industrial Arts & Consumer Services     3\n",
      "Interdisciplinary                       1\n",
      "Law & Public Policy                     1\n",
      "Physical Sciences                       6\n",
      "Psychology & Social Work                2\n",
      "Social Science                          4\n",
      "Name: major_category, dtype: int64\n"
     ]
    }
   ],
   "source": [
    "# Group departments that have less women by category and count\n",
    "print(fewer_women.groupby(['major_category']).major_category.count())"
   ]
  },
  {
   "cell_type": "markdown",
   "metadata": {},
   "source": [
    "# Grouping One Column with Means"
   ]
  },
  {
   "cell_type": "code",
   "execution_count": 21,
   "metadata": {
    "scrolled": true
   },
   "outputs": [
    {
     "name": "stdout",
     "output_type": "stream",
     "text": [
      "major_category\n",
      "Agriculture & Natural Resources        4.511111\n",
      "Arts                                   0.308747\n",
      "Biology & Life Science                 4.785277\n",
      "Business                               0.318304\n",
      "Communications & Journalism            0.483868\n",
      "Computers & Mathematics                0.700728\n",
      "Education                              6.869082\n",
      "Engineering                            1.296387\n",
      "Health                                 0.450257\n",
      "Humanities & Liberal Arts              0.540437\n",
      "Industrial Arts & Consumer Services    2.474325\n",
      "Interdisciplinary                      0.320397\n",
      "Law & Public Policy                    0.281993\n",
      "Physical Sciences                      1.556373\n",
      "Psychology & Social Work               5.719239\n",
      "Social Science                         1.695479\n",
      "Name: gender_diff, dtype: float64\n"
     ]
    }
   ],
   "source": [
    "# Report average gender difference by major category\n",
    "print(recent_grads.groupby(['major_category']).gender_diff.mean())"
   ]
  },
  {
   "cell_type": "code",
   "execution_count": 22,
   "metadata": {
    "scrolled": true
   },
   "outputs": [
    {
     "name": "stdout",
     "output_type": "stream",
     "text": [
      "                                     low_wage_jobs  unemployment_rate\n",
      "major_category                                                       \n",
      "Agriculture & Natural Resources         789.900000           0.056328\n",
      "Arts                                   7514.500000           0.090173\n",
      "Biology & Life Science                 3053.000000           0.060918\n",
      "Business                               9752.923077           0.071064\n",
      "Communications & Journalism           12398.750000           0.075538\n",
      "Computers & Mathematics                1466.909091           0.084256\n",
      "Education                              2554.375000           0.051702\n",
      "Engineering                             864.793103           0.063334\n",
      "Health                                 2605.833333           0.065920\n",
      "Humanities & Liberal Arts              6282.666667           0.081008\n",
      "Industrial Arts & Consumer Services    3798.571429           0.056083\n",
      "Interdisciplinary                      1061.000000           0.070861\n",
      "Law & Public Policy                    4144.000000           0.090805\n",
      "Physical Sciences                      1407.800000           0.046511\n",
      "Psychology & Social Work               6249.555556           0.072065\n",
      "Social Science                         6020.000000           0.095729\n"
     ]
    }
   ],
   "source": [
    "# Find average number of low wage jobs and unemployment rate of each major category\n",
    "dept_stats = recent_grads.groupby(['major_category'])['low_wage_jobs', 'unemployment_rate'].mean()\n",
    "print(dept_stats)"
   ]
  },
  {
   "cell_type": "code",
   "execution_count": null,
   "metadata": {},
   "outputs": [],
   "source": []
  }
 ],
 "metadata": {
  "kernelspec": {
   "display_name": "Python 3",
   "language": "python",
   "name": "python3"
  },
  "language_info": {
   "codemirror_mode": {
    "name": "ipython",
    "version": 3
   },
   "file_extension": ".py",
   "mimetype": "text/x-python",
   "name": "python",
   "nbconvert_exporter": "python",
   "pygments_lexer": "ipython3",
   "version": "3.7.4"
  }
 },
 "nbformat": 4,
 "nbformat_minor": 2
}
